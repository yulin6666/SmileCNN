{
 "cells": [
  {
   "cell_type": "markdown",
   "metadata": {},
   "source": [
    "For this step we're going to use Keras. This will also start up your GPU if you're using one, which can take up to **10 seconds**."
   ]
  },
  {
   "cell_type": "code",
   "execution_count": 1,
   "metadata": {},
   "outputs": [
    {
     "name": "stderr",
     "output_type": "stream",
     "text": [
      "Using TensorFlow backend.\n"
     ]
    },
    {
     "name": "stdout",
     "output_type": "stream",
     "text": [
      "2.2.4\n",
      "1.15.0\n"
     ]
    }
   ],
   "source": [
    "import numpy as np\n",
    "import keras\n",
    "import tensorflow as tf\n",
    "from keras.models import Sequential\n",
    "from keras.layers.core import Dense, Dropout, Flatten, Reshape\n",
    "from keras.layers.convolutional import Conv2D, MaxPooling2D\n",
    "from keras.utils import np_utils\n",
    "print keras.__version__\n",
    "print tf.__version__"
   ]
  },
  {
   "cell_type": "markdown",
   "metadata": {},
   "source": [
    "Now let's load the data, and convert the labels to categories. So `0` becomes `[1, 0]` and `1` becomes `[0, 1]`. This makes it easy to add more classes later (like \"angry\", \"sad\", etc.) and interpret the predictions as probabilities. We do this after loading the file instead of before saving to avoid having a big labels file on disk.\n",
    "\n",
    "Then we shuffle all the examples to make sure we don't hold out only one class for validation. And finally we count up how many instances there are of each class to make ensure that we put more emphasis on the rarer ones during training."
   ]
  },
  {
   "cell_type": "code",
   "execution_count": 2,
   "metadata": {},
   "outputs": [
    {
     "name": "stdout",
     "output_type": "stream",
     "text": [
      "float32 0.0 1.0 (38348, 32, 32, 1)\n",
      "float32 0.0 1.0 (38348, 2)\n"
     ]
    }
   ],
   "source": [
    "# load the data\n",
    "X = np.load('X.npy')\n",
    "y = np.load('y.npy')\n",
    "\n",
    "# convert classes to vector\n",
    "nb_classes = 2\n",
    "y = np_utils.to_categorical(y, nb_classes).astype(np.float32)\n",
    "\n",
    "# shuffle all the data\n",
    "indices = np.arange(len(X))\n",
    "np.random.shuffle(indices)\n",
    "X = X[indices]\n",
    "y = y[indices]\n",
    "\n",
    "# prepare weighting for classes since they're unbalanced\n",
    "class_totals = y.sum(axis=0)\n",
    "class_weight = class_totals.max() / class_totals\n",
    "\n",
    "print X.dtype, X.min(), X.max(), X.shape\n",
    "print y.dtype, y.min(), y.max(), y.shape"
   ]
  },
  {
   "cell_type": "markdown",
   "metadata": {},
   "source": [
    "Now we set up our network. It is based on the Keras `mnist_cnn.py` example, following in the footsteps of VGG net by using small 3x3 convolutions with max pooling, and a final stage of multiple dense layers."
   ]
  },
  {
   "cell_type": "code",
   "execution_count": 3,
   "metadata": {
    "scrolled": false
   },
   "outputs": [
    {
     "name": "stdout",
     "output_type": "stream",
     "text": [
      "WARNING:tensorflow:From /opt/anaconda3/envs/py2version/lib/python2.7/site-packages/keras/backend/tensorflow_backend.py:74: The name tf.get_default_graph is deprecated. Please use tf.compat.v1.get_default_graph instead.\n",
      "\n",
      "WARNING:tensorflow:From /opt/anaconda3/envs/py2version/lib/python2.7/site-packages/keras/backend/tensorflow_backend.py:517: The name tf.placeholder is deprecated. Please use tf.compat.v1.placeholder instead.\n",
      "\n",
      "WARNING:tensorflow:From /opt/anaconda3/envs/py2version/lib/python2.7/site-packages/keras/backend/tensorflow_backend.py:4138: The name tf.random_uniform is deprecated. Please use tf.random.uniform instead.\n",
      "\n",
      "WARNING:tensorflow:From /opt/anaconda3/envs/py2version/lib/python2.7/site-packages/keras/backend/tensorflow_backend.py:3976: The name tf.nn.max_pool is deprecated. Please use tf.nn.max_pool2d instead.\n",
      "\n",
      "WARNING:tensorflow:From /opt/anaconda3/envs/py2version/lib/python2.7/site-packages/keras/backend/tensorflow_backend.py:133: The name tf.placeholder_with_default is deprecated. Please use tf.compat.v1.placeholder_with_default instead.\n",
      "\n",
      "WARNING:tensorflow:From /opt/anaconda3/envs/py2version/lib/python2.7/site-packages/keras/backend/tensorflow_backend.py:3445: calling dropout (from tensorflow.python.ops.nn_ops) with keep_prob is deprecated and will be removed in a future version.\n",
      "Instructions for updating:\n",
      "Please use `rate` instead of `keep_prob`. Rate should be set to `rate = 1 - keep_prob`.\n",
      "WARNING:tensorflow:From /opt/anaconda3/envs/py2version/lib/python2.7/site-packages/keras/optimizers.py:790: The name tf.train.Optimizer is deprecated. Please use tf.compat.v1.train.Optimizer instead.\n",
      "\n",
      "WARNING:tensorflow:From /opt/anaconda3/envs/py2version/lib/python2.7/site-packages/keras/backend/tensorflow_backend.py:3295: The name tf.log is deprecated. Please use tf.math.log instead.\n",
      "\n",
      "_________________________________________________________________\n",
      "Layer (type)                 Output Shape              Param #   \n",
      "=================================================================\n",
      "conv2d_1 (Conv2D)            (None, 30, 30, 32)        320       \n",
      "_________________________________________________________________\n",
      "max_pooling2d_1 (MaxPooling2 (None, 15, 15, 32)        0         \n",
      "_________________________________________________________________\n",
      "conv2d_2 (Conv2D)            (None, 13, 13, 32)        9248      \n",
      "_________________________________________________________________\n",
      "max_pooling2d_2 (MaxPooling2 (None, 6, 6, 32)          0         \n",
      "_________________________________________________________________\n",
      "dropout_1 (Dropout)          (None, 6, 6, 32)          0         \n",
      "_________________________________________________________________\n",
      "flatten_1 (Flatten)          (None, 1152)              0         \n",
      "_________________________________________________________________\n",
      "dense_1 (Dense)              (None, 64)                73792     \n",
      "_________________________________________________________________\n",
      "dropout_2 (Dropout)          (None, 64)                0         \n",
      "_________________________________________________________________\n",
      "dense_2 (Dense)              (None, 2)                 130       \n",
      "=================================================================\n",
      "Total params: 83,490\n",
      "Trainable params: 83,490\n",
      "Non-trainable params: 0\n",
      "_________________________________________________________________\n"
     ]
    }
   ],
   "source": [
    "nb_filters = 32\n",
    "nb_pool = 2\n",
    "nb_conv = 3\n",
    "\n",
    "model = Sequential()\n",
    "\n",
    "model.add(Conv2D(nb_filters, (nb_conv, nb_conv), activation='relu', input_shape=X.shape[1:]))\n",
    "model.add(MaxPooling2D(pool_size=(nb_pool, nb_pool)))\n",
    "model.add(Conv2D(nb_filters, (nb_conv, nb_conv), activation='relu'))\n",
    "model.add(MaxPooling2D(pool_size=(nb_pool, nb_pool)))\n",
    "model.add(Dropout(0.25))\n",
    "model.add(Flatten())\n",
    "model.add(Dense(64, activation='relu'))\n",
    "model.add(Dropout(0.5))\n",
    "model.add(Dense(2, activation='softmax'))\n",
    "\n",
    "model.compile(loss='categorical_crossentropy', optimizer='adam', metrics=['accuracy'])\n",
    "model.summary()"
   ]
  },
  {
   "cell_type": "markdown",
   "metadata": {},
   "source": [
    "Now that our data and model is ready, we can train the model on the data for a few epochs, holding out 10% of the data for validating the accuracy. This should take about **30 seconds**."
   ]
  },
  {
   "cell_type": "code",
   "execution_count": 4,
   "metadata": {},
   "outputs": [
    {
     "name": "stdout",
     "output_type": "stream",
     "text": [
      "WARNING:tensorflow:From /opt/anaconda3/envs/py2version/lib/python2.7/site-packages/tensorflow_core/python/ops/math_grad.py:1424: where (from tensorflow.python.ops.array_ops) is deprecated and will be removed in a future version.\n",
      "Instructions for updating:\n",
      "Use tf.where in 2.0, which has the same broadcast rule as np.where\n",
      "WARNING:tensorflow:From /opt/anaconda3/envs/py2version/lib/python2.7/site-packages/keras/backend/tensorflow_backend.py:986: The name tf.assign_add is deprecated. Please use tf.compat.v1.assign_add instead.\n",
      "\n",
      "WARNING:tensorflow:From /opt/anaconda3/envs/py2version/lib/python2.7/site-packages/keras/backend/tensorflow_backend.py:973: The name tf.assign is deprecated. Please use tf.compat.v1.assign instead.\n",
      "\n",
      "WARNING:tensorflow:From /opt/anaconda3/envs/py2version/lib/python2.7/site-packages/keras/backend/tensorflow_backend.py:2741: The name tf.Session is deprecated. Please use tf.compat.v1.Session instead.\n",
      "\n",
      "Train on 34513 samples, validate on 3835 samples\n",
      "Epoch 1/50\n",
      "WARNING:tensorflow:From /opt/anaconda3/envs/py2version/lib/python2.7/site-packages/keras/backend/tensorflow_backend.py:174: The name tf.get_default_session is deprecated. Please use tf.compat.v1.get_default_session instead.\n",
      "\n",
      "WARNING:tensorflow:From /opt/anaconda3/envs/py2version/lib/python2.7/site-packages/keras/backend/tensorflow_backend.py:181: The name tf.ConfigProto is deprecated. Please use tf.compat.v1.ConfigProto instead.\n",
      "\n",
      "WARNING:tensorflow:From /opt/anaconda3/envs/py2version/lib/python2.7/site-packages/keras/backend/tensorflow_backend.py:190: The name tf.global_variables is deprecated. Please use tf.compat.v1.global_variables instead.\n",
      "\n",
      "WARNING:tensorflow:From /opt/anaconda3/envs/py2version/lib/python2.7/site-packages/keras/backend/tensorflow_backend.py:199: The name tf.is_variable_initialized is deprecated. Please use tf.compat.v1.is_variable_initialized instead.\n",
      "\n",
      "WARNING:tensorflow:From /opt/anaconda3/envs/py2version/lib/python2.7/site-packages/keras/backend/tensorflow_backend.py:206: The name tf.variables_initializer is deprecated. Please use tf.compat.v1.variables_initializer instead.\n",
      "\n",
      "34513/34513 [==============================] - 24s 695us/step - loss: 0.3773 - acc: 0.8407 - val_loss: 0.2740 - val_acc: 0.8892\n",
      "Epoch 2/50\n",
      "34513/34513 [==============================] - 21s 605us/step - loss: 0.2866 - acc: 0.8830 - val_loss: 0.2417 - val_acc: 0.9022\n",
      "Epoch 3/50\n",
      "34513/34513 [==============================] - 22s 627us/step - loss: 0.2626 - acc: 0.8951 - val_loss: 0.2195 - val_acc: 0.9098\n",
      "Epoch 4/50\n",
      "34513/34513 [==============================] - 22s 650us/step - loss: 0.2461 - acc: 0.9012 - val_loss: 0.1995 - val_acc: 0.9199\n",
      "Epoch 5/50\n",
      "34513/34513 [==============================] - 23s 662us/step - loss: 0.2304 - acc: 0.9075 - val_loss: 0.1886 - val_acc: 0.9246\n",
      "Epoch 6/50\n",
      "34513/34513 [==============================] - 24s 694us/step - loss: 0.2176 - acc: 0.9145 - val_loss: 0.1780 - val_acc: 0.9280\n",
      "Epoch 7/50\n",
      "34513/34513 [==============================] - 36s 1ms/step - loss: 0.2084 - acc: 0.9164 - val_loss: 0.1656 - val_acc: 0.9332\n",
      "Epoch 8/50\n",
      "34513/34513 [==============================] - 40s 1ms/step - loss: 0.1990 - acc: 0.9214 - val_loss: 0.1672 - val_acc: 0.9340\n",
      "Epoch 9/50\n",
      "34513/34513 [==============================] - 38s 1ms/step - loss: 0.1919 - acc: 0.9246 - val_loss: 0.1584 - val_acc: 0.9372\n",
      "Epoch 10/50\n",
      "34513/34513 [==============================] - 40s 1ms/step - loss: 0.1855 - acc: 0.9260 - val_loss: 0.1553 - val_acc: 0.9392\n",
      "Epoch 11/50\n",
      "34513/34513 [==============================] - 36s 1ms/step - loss: 0.1811 - acc: 0.9300 - val_loss: 0.1458 - val_acc: 0.9411\n",
      "Epoch 12/50\n",
      "34513/34513 [==============================] - 33s 956us/step - loss: 0.1759 - acc: 0.9323 - val_loss: 0.1449 - val_acc: 0.9432\n",
      "Epoch 13/50\n",
      "34513/34513 [==============================] - 26s 749us/step - loss: 0.1733 - acc: 0.9324 - val_loss: 0.1419 - val_acc: 0.9450\n",
      "Epoch 14/50\n",
      "34513/34513 [==============================] - 25s 732us/step - loss: 0.1689 - acc: 0.9338 - val_loss: 0.1444 - val_acc: 0.9403\n",
      "Epoch 15/50\n",
      "34513/34513 [==============================] - 26s 753us/step - loss: 0.1631 - acc: 0.9356 - val_loss: 0.1425 - val_acc: 0.9416\n",
      "Epoch 16/50\n",
      "34513/34513 [==============================] - 33s 968us/step - loss: 0.1630 - acc: 0.9364 - val_loss: 0.1414 - val_acc: 0.9434\n",
      "Epoch 17/50\n",
      "34513/34513 [==============================] - 24s 701us/step - loss: 0.1581 - acc: 0.9390 - val_loss: 0.1335 - val_acc: 0.9439\n",
      "Epoch 18/50\n",
      "34513/34513 [==============================] - 33s 956us/step - loss: 0.1540 - acc: 0.9411 - val_loss: 0.1354 - val_acc: 0.9471\n",
      "Epoch 19/50\n",
      "34513/34513 [==============================] - 30s 882us/step - loss: 0.1510 - acc: 0.9413 - val_loss: 0.1413 - val_acc: 0.9424\n",
      "Epoch 20/50\n",
      "34513/34513 [==============================] - 31s 895us/step - loss: 0.1492 - acc: 0.9427 - val_loss: 0.1469 - val_acc: 0.9419\n",
      "Epoch 21/50\n",
      "34513/34513 [==============================] - 36s 1ms/step - loss: 0.1503 - acc: 0.9425 - val_loss: 0.1353 - val_acc: 0.9471\n",
      "Epoch 22/50\n",
      "34513/34513 [==============================] - 38s 1ms/step - loss: 0.1448 - acc: 0.9448 - val_loss: 0.1310 - val_acc: 0.9510\n",
      "Epoch 23/50\n",
      "34513/34513 [==============================] - 32s 930us/step - loss: 0.1419 - acc: 0.9463 - val_loss: 0.1346 - val_acc: 0.9489\n",
      "Epoch 24/50\n",
      "34513/34513 [==============================] - 28s 815us/step - loss: 0.1410 - acc: 0.9460 - val_loss: 0.1302 - val_acc: 0.9481\n",
      "Epoch 25/50\n",
      "34513/34513 [==============================] - 22s 632us/step - loss: 0.1400 - acc: 0.9471 - val_loss: 0.1369 - val_acc: 0.9458\n",
      "Epoch 26/50\n",
      "34513/34513 [==============================] - 26s 751us/step - loss: 0.1375 - acc: 0.9474 - val_loss: 0.1319 - val_acc: 0.9458\n",
      "Epoch 27/50\n",
      "34513/34513 [==============================] - 24s 686us/step - loss: 0.1333 - acc: 0.9489 - val_loss: 0.1269 - val_acc: 0.9492\n",
      "Epoch 28/50\n",
      "34513/34513 [==============================] - 29s 853us/step - loss: 0.1341 - acc: 0.9482 - val_loss: 0.1278 - val_acc: 0.9478\n",
      "Epoch 29/50\n",
      "34513/34513 [==============================] - 32s 925us/step - loss: 0.1336 - acc: 0.9491 - val_loss: 0.1326 - val_acc: 0.9463\n",
      "Epoch 30/50\n",
      "34513/34513 [==============================] - 29s 827us/step - loss: 0.1312 - acc: 0.9502 - val_loss: 0.1299 - val_acc: 0.9465\n",
      "Epoch 31/50\n",
      "34513/34513 [==============================] - 23s 662us/step - loss: 0.1275 - acc: 0.9513 - val_loss: 0.1302 - val_acc: 0.9468\n",
      "Epoch 32/50\n",
      "34513/34513 [==============================] - 25s 737us/step - loss: 0.1282 - acc: 0.9505 - val_loss: 0.1245 - val_acc: 0.9512\n",
      "Epoch 33/50\n",
      "34513/34513 [==============================] - 37s 1ms/step - loss: 0.1272 - acc: 0.9511 - val_loss: 0.1239 - val_acc: 0.9502\n",
      "Epoch 34/50\n",
      "34513/34513 [==============================] - 48s 1ms/step - loss: 0.1263 - acc: 0.9510 - val_loss: 0.1264 - val_acc: 0.9518\n",
      "Epoch 35/50\n",
      "34513/34513 [==============================] - 32s 918us/step - loss: 0.1227 - acc: 0.9537 - val_loss: 0.1232 - val_acc: 0.9512\n",
      "Epoch 36/50\n",
      "34513/34513 [==============================] - 26s 765us/step - loss: 0.1214 - acc: 0.9527 - val_loss: 0.1228 - val_acc: 0.9520\n",
      "Epoch 37/50\n",
      "34513/34513 [==============================] - 24s 690us/step - loss: 0.1202 - acc: 0.9540 - val_loss: 0.1291 - val_acc: 0.9497\n",
      "Epoch 38/50\n",
      "34513/34513 [==============================] - 26s 739us/step - loss: 0.1174 - acc: 0.9551 - val_loss: 0.1331 - val_acc: 0.9455\n",
      "Epoch 39/50\n",
      "34513/34513 [==============================] - 23s 653us/step - loss: 0.1161 - acc: 0.9558 - val_loss: 0.1248 - val_acc: 0.9523\n",
      "Epoch 40/50\n",
      "34513/34513 [==============================] - 29s 851us/step - loss: 0.1182 - acc: 0.9537 - val_loss: 0.1230 - val_acc: 0.9518\n",
      "Epoch 41/50\n",
      "34513/34513 [==============================] - 33s 968us/step - loss: 0.1133 - acc: 0.9565 - val_loss: 0.1222 - val_acc: 0.9533\n",
      "Epoch 42/50\n",
      "34513/34513 [==============================] - 26s 759us/step - loss: 0.1136 - acc: 0.9574 - val_loss: 0.1306 - val_acc: 0.9512\n",
      "Epoch 43/50\n",
      "34513/34513 [==============================] - 27s 776us/step - loss: 0.1131 - acc: 0.9569 - val_loss: 0.1320 - val_acc: 0.9465\n",
      "Epoch 44/50\n"
     ]
    },
    {
     "name": "stdout",
     "output_type": "stream",
     "text": [
      "34513/34513 [==============================] - 28s 812us/step - loss: 0.1113 - acc: 0.9566 - val_loss: 0.1240 - val_acc: 0.9544\n",
      "Epoch 45/50\n",
      "34513/34513 [==============================] - 39s 1ms/step - loss: 0.1088 - acc: 0.9596 - val_loss: 0.1343 - val_acc: 0.9492\n",
      "Epoch 46/50\n",
      "34513/34513 [==============================] - 44s 1ms/step - loss: 0.1088 - acc: 0.9573 - val_loss: 0.1305 - val_acc: 0.9497\n",
      "Epoch 47/50\n",
      "34513/34513 [==============================] - 45s 1ms/step - loss: 0.1064 - acc: 0.9580 - val_loss: 0.1223 - val_acc: 0.9541\n",
      "Epoch 48/50\n",
      "34513/34513 [==============================] - 46s 1ms/step - loss: 0.1069 - acc: 0.9589 - val_loss: 0.1262 - val_acc: 0.9492\n",
      "Epoch 49/50\n",
      "34513/34513 [==============================] - 26s 741us/step - loss: 0.1076 - acc: 0.9587 - val_loss: 0.1322 - val_acc: 0.9505\n",
      "Epoch 50/50\n",
      "34513/34513 [==============================] - 30s 863us/step - loss: 0.1100 - acc: 0.9584 - val_loss: 0.1257 - val_acc: 0.9536\n"
     ]
    }
   ],
   "source": [
    "validation_split = 0.10\n",
    "history = model.fit(X, y, batch_size=128, class_weight=class_weight, epochs=50, verbose=1, validation_split=validation_split)"
   ]
  },
  {
   "cell_type": "markdown",
   "metadata": {},
   "source": [
    "That got us to 90% validation accuracy, following the training accuracy pretty closely. To get it down more we might try tweaking the hyperparameters (number of filters, size of dense layers, etc.) or lowering the learning rate after a few epochs. But for now we will just save the model."
   ]
  },
  {
   "cell_type": "code",
   "execution_count": 5,
   "metadata": {},
   "outputs": [],
   "source": [
    "open('gender_model.json', 'w').write(model.to_json())\n",
    "model.save_weights('gender_weights.h5')"
   ]
  },
  {
   "cell_type": "markdown",
   "metadata": {},
   "source": [
    "To visually check the accuracy and loss, we can plot them to verify that there aren't any unexpected kinks or noise."
   ]
  },
  {
   "cell_type": "code",
   "execution_count": null,
   "metadata": {},
   "outputs": [],
   "source": [
    "%matplotlib inline\n",
    "from matplotlib import pyplot as plt\n",
    "plt.plot(history.history['loss'])\n",
    "plt.plot(history.history['acc'])\n",
    "plt.plot(history.history['val_loss'])\n",
    "plt.plot(history.history['val_acc'])\n",
    "plt.show()"
   ]
  },
  {
   "cell_type": "markdown",
   "metadata": {},
   "source": [
    "Bonus (optional): let's check the area under the receiver operating characteristic curve (ROC AUC) so we can compare to other work."
   ]
  },
  {
   "cell_type": "code",
   "execution_count": 6,
   "metadata": {},
   "outputs": [
    {
     "name": "stdout",
     "output_type": "stream",
     "text": [
      "0.9849552043641268\n"
     ]
    }
   ],
   "source": [
    "from sklearn.metrics import roc_auc_score\n",
    "n_validation = int(len(X) * validation_split)\n",
    "y_predicted = model.predict(X[-n_validation:])\n",
    "print roc_auc_score(y[-n_validation:], y_predicted)"
   ]
  },
  {
   "cell_type": "code",
   "execution_count": null,
   "metadata": {},
   "outputs": [
    {
     "name": "stderr",
     "output_type": "stream",
     "text": [
      "Using TensorFlow backend.\n"
     ]
    },
    {
     "name": "stdout",
     "output_type": "stream",
     "text": [
      "WARNING:tensorflow:From /opt/anaconda3/envs/py2version/lib/python2.7/site-packages/keras/backend/tensorflow_backend.py:517: The name tf.placeholder is deprecated. Please use tf.compat.v1.placeholder instead.\n",
      "\n",
      "WARNING:tensorflow:From /opt/anaconda3/envs/py2version/lib/python2.7/site-packages/keras/backend/tensorflow_backend.py:4138: The name tf.random_uniform is deprecated. Please use tf.random.uniform instead.\n",
      "\n",
      "WARNING:tensorflow:From /opt/anaconda3/envs/py2version/lib/python2.7/site-packages/keras/backend/tensorflow_backend.py:3976: The name tf.nn.max_pool is deprecated. Please use tf.nn.max_pool2d instead.\n",
      "\n",
      "WARNING:tensorflow:From /opt/anaconda3/envs/py2version/lib/python2.7/site-packages/keras/backend/tensorflow_backend.py:131: The name tf.get_default_graph is deprecated. Please use tf.compat.v1.get_default_graph instead.\n",
      "\n",
      "WARNING:tensorflow:From /opt/anaconda3/envs/py2version/lib/python2.7/site-packages/keras/backend/tensorflow_backend.py:133: The name tf.placeholder_with_default is deprecated. Please use tf.compat.v1.placeholder_with_default instead.\n",
      "\n",
      "WARNING:tensorflow:From /opt/anaconda3/envs/py2version/lib/python2.7/site-packages/keras/backend/tensorflow_backend.py:3445: calling dropout (from tensorflow.python.ops.nn_ops) with keep_prob is deprecated and will be removed in a future version.\n",
      "Instructions for updating:\n",
      "Please use `rate` instead of `keep_prob`. Rate should be set to `rate = 1 - keep_prob`.\n",
      "WARNING:tensorflow:From /opt/anaconda3/envs/py2version/lib/python2.7/site-packages/keras/backend/tensorflow_backend.py:174: The name tf.get_default_session is deprecated. Please use tf.compat.v1.get_default_session instead.\n",
      "\n",
      "WARNING:tensorflow:From /opt/anaconda3/envs/py2version/lib/python2.7/site-packages/keras/backend/tensorflow_backend.py:181: The name tf.ConfigProto is deprecated. Please use tf.compat.v1.ConfigProto instead.\n",
      "\n",
      "WARNING:tensorflow:From /opt/anaconda3/envs/py2version/lib/python2.7/site-packages/keras/backend/tensorflow_backend.py:186: The name tf.Session is deprecated. Please use tf.compat.v1.Session instead.\n",
      "\n",
      "WARNING:tensorflow:From /opt/anaconda3/envs/py2version/lib/python2.7/site-packages/keras/backend/tensorflow_backend.py:190: The name tf.global_variables is deprecated. Please use tf.compat.v1.global_variables instead.\n",
      "\n",
      "WARNING:tensorflow:From /opt/anaconda3/envs/py2version/lib/python2.7/site-packages/keras/backend/tensorflow_backend.py:199: The name tf.is_variable_initialized is deprecated. Please use tf.compat.v1.is_variable_initialized instead.\n",
      "\n",
      "WARNING:tensorflow:From /opt/anaconda3/envs/py2version/lib/python2.7/site-packages/keras/backend/tensorflow_backend.py:206: The name tf.variables_initializer is deprecated. Please use tf.compat.v1.variables_initializer instead.\n",
      "\n"
     ]
    },
    {
     "data": {
      "image/png": "[encoded data removed]",
      "text/plain": [
       "<IPython.core.display.Image object>"
      ]
     },
     "metadata": {},
     "output_type": "display_data"
    },
    {
     "name": "stdout",
     "output_type": "stream",
     "text": [
      "(900, 32, 32, 1)\n"
     ]
    }
   ],
   "source": [
    "from utils import show_array\n",
    "import numpy as np\n",
    "\n",
    "import keras\n",
    "from keras.models import model_from_json\n",
    "model1 = model_from_json(open('model.json').read())\n",
    "model1.load_weights('weights.h5')\n",
    "\n",
    "X = np.load('X.npy')\n",
    "class_names = ['Neutral', 'Smiling']\n",
    "img = X[-7]\n",
    "show_array(255 * img)\n",
    "\n",
    "print(X[100:1000].shape)\n",
    "\n",
    "probabilities = model1.predict(X[100:1000])"
   ]
  },
  {
   "cell_type": "code",
   "execution_count": 1,
   "metadata": {},
   "outputs": [
    {
     "name": "stderr",
     "output_type": "stream",
     "text": [
      "Using TensorFlow backend.\n"
     ]
    },
    {
     "name": "stdout",
     "output_type": "stream",
     "text": [
      "WARNING:tensorflow:From /opt/anaconda3/envs/py2version/lib/python2.7/site-packages/keras/backend/tensorflow_backend.py:517: The name tf.placeholder is deprecated. Please use tf.compat.v1.placeholder instead.\n",
      "\n",
      "WARNING:tensorflow:From /opt/anaconda3/envs/py2version/lib/python2.7/site-packages/keras/backend/tensorflow_backend.py:4138: The name tf.random_uniform is deprecated. Please use tf.random.uniform instead.\n",
      "\n",
      "WARNING:tensorflow:From /opt/anaconda3/envs/py2version/lib/python2.7/site-packages/keras/backend/tensorflow_backend.py:3976: The name tf.nn.max_pool is deprecated. Please use tf.nn.max_pool2d instead.\n",
      "\n",
      "WARNING:tensorflow:From /opt/anaconda3/envs/py2version/lib/python2.7/site-packages/keras/backend/tensorflow_backend.py:131: The name tf.get_default_graph is deprecated. Please use tf.compat.v1.get_default_graph instead.\n",
      "\n",
      "WARNING:tensorflow:From /opt/anaconda3/envs/py2version/lib/python2.7/site-packages/keras/backend/tensorflow_backend.py:133: The name tf.placeholder_with_default is deprecated. Please use tf.compat.v1.placeholder_with_default instead.\n",
      "\n",
      "WARNING:tensorflow:From /opt/anaconda3/envs/py2version/lib/python2.7/site-packages/keras/backend/tensorflow_backend.py:3445: calling dropout (from tensorflow.python.ops.nn_ops) with keep_prob is deprecated and will be removed in a future version.\n",
      "Instructions for updating:\n",
      "Please use `rate` instead of `keep_prob`. Rate should be set to `rate = 1 - keep_prob`.\n",
      "WARNING:tensorflow:From /opt/anaconda3/envs/py2version/lib/python2.7/site-packages/keras/backend/tensorflow_backend.py:174: The name tf.get_default_session is deprecated. Please use tf.compat.v1.get_default_session instead.\n",
      "\n",
      "WARNING:tensorflow:From /opt/anaconda3/envs/py2version/lib/python2.7/site-packages/keras/backend/tensorflow_backend.py:181: The name tf.ConfigProto is deprecated. Please use tf.compat.v1.ConfigProto instead.\n",
      "\n",
      "WARNING:tensorflow:From /opt/anaconda3/envs/py2version/lib/python2.7/site-packages/keras/backend/tensorflow_backend.py:186: The name tf.Session is deprecated. Please use tf.compat.v1.Session instead.\n",
      "\n",
      "WARNING:tensorflow:From /opt/anaconda3/envs/py2version/lib/python2.7/site-packages/keras/backend/tensorflow_backend.py:190: The name tf.global_variables is deprecated. Please use tf.compat.v1.global_variables instead.\n",
      "\n",
      "WARNING:tensorflow:From /opt/anaconda3/envs/py2version/lib/python2.7/site-packages/keras/backend/tensorflow_backend.py:199: The name tf.is_variable_initialized is deprecated. Please use tf.compat.v1.is_variable_initialized instead.\n",
      "\n",
      "WARNING:tensorflow:From /opt/anaconda3/envs/py2version/lib/python2.7/site-packages/keras/backend/tensorflow_backend.py:206: The name tf.variables_initializer is deprecated. Please use tf.compat.v1.variables_initializer instead.\n",
      "\n"
     ]
    },
    {
     "name": "stderr",
     "output_type": "stream",
     "text": [
      "WARNING:root:TensorFlow version 1.15.0 detected. Last version known to be fully compatible is 1.14.0 .\n"
     ]
    },
    {
     "name": "stdout",
     "output_type": "stream",
     "text": [
      "0 : conv2d_1_input, <keras.engine.input_layer.InputLayer object at 0x1c3df8d5d0>\n",
      "1 : conv2d_1, <keras.layers.convolutional.Conv2D object at 0x1c3df8d650>\n",
      "2 : conv2d_1__activation__, <keras.layers.core.Activation object at 0x1c3e330190>\n",
      "3 : max_pooling2d_1, <keras.layers.pooling.MaxPooling2D object at 0x1c3dfc6210>\n",
      "4 : conv2d_2, <keras.layers.convolutional.Conv2D object at 0x1c3dfb6f90>\n",
      "5 : conv2d_2__activation__, <keras.layers.core.Activation object at 0x1c3e3407d0>\n",
      "6 : max_pooling2d_2, <keras.layers.pooling.MaxPooling2D object at 0x1c3dfdd810>\n",
      "7 : flatten_1, <keras.layers.core.Flatten object at 0x1c3dfe7990>\n",
      "8 : dense_1, <keras.layers.core.Dense object at 0x1c3e0106d0>\n",
      "9 : dense_1__activation__, <keras.layers.core.Activation object at 0x1c3e340990>\n",
      "10 : dense_2, <keras.layers.core.Dense object at 0x1c3e01ddd0>\n",
      "11 : dense_2__activation__, <keras.layers.core.Activation object at 0x1c3e340a10>\n"
     ]
    },
    {
     "data": {
      "image/png": "[encoded data removed]",
      "text/plain": [
       "<PIL.Image.Image image mode=L size=32x32 at 0x1C3E025450>"
      ]
     },
     "metadata": {},
     "output_type": "display_data"
    },
    {
     "name": "stdout",
     "output_type": "stream",
     "text": [
      "Female\n"
     ]
    },
    {
     "data": {
      "image/png": "[encoded data removed]",
      "text/plain": [
       "<PIL.Image.Image image mode=L size=32x32 at 0x1C3E025450>"
      ]
     },
     "metadata": {},
     "output_type": "display_data"
    },
    {
     "name": "stdout",
     "output_type": "stream",
     "text": [
      "Male\n"
     ]
    }
   ],
   "source": [
    "#coreml模型\n",
    "from utils import show_array\n",
    "import numpy as np\n",
    "import PIL.Image\n",
    "import IPython.display\n",
    "\n",
    "import keras\n",
    "from keras.models import model_from_json\n",
    "model = model_from_json(open('gender_model.json').read())\n",
    "model.load_weights('gender_weights.h5')\n",
    "\n",
    "from keras.models import load_model\n",
    "import coremltools\n",
    "\n",
    "import coremltools\n",
    "\n",
    "coreml_model = coremltools.converters.keras.convert(model,input_names='data', image_input_names='data',output_names='outTensor')\n",
    "coreml_model.save('gender.mlmodel')\n",
    "\n",
    "# X = np.load('X.npy')\n",
    "# Y = np.load('Y.npy')\n",
    "class_names = ['Female', 'Male']\n",
    "# img = X[-8]\n",
    "# show_array(255 * img)\n",
    "\n",
    "#check female\n",
    "# raw_img = 255*img\n",
    "# raw_img = np.squeeze(raw_img)\n",
    "# raw_img = np.uint8(np.clip(raw_img, 0, 255))\n",
    "# img = PIL.Image.fromarray(raw_img)\n",
    "img = PIL.Image.open('../dataset/Gender/cropImage/Female/b12_23.jpg')\n",
    "newsize = (32, 32) \n",
    "img = img.resize(newsize) \n",
    "display(img)\n",
    "\n",
    "mlmodel = coremltools.models.MLModel('gender.mlmodel')\n",
    "out = mlmodel.predict({'data': img})\n",
    "ret = out['outTensor']\n",
    "print class_names[np.argmax(ret)]\n",
    "\n",
    "#check male\n",
    "img = PIL.Image.open('../dataset/Gender/testdata/yl.jpg').convert('L')\n",
    "newsize = (32, 32) \n",
    "img = img.resize(newsize)\n",
    "display(img)\n",
    "\n",
    "mlmodel = coremltools.models.MLModel('gender.mlmodel')\n",
    "out = mlmodel.predict({'data': img})\n",
    "ret = out['outTensor']\n",
    "print class_names[np.argmax(ret)]"
   ]
  },
  {
   "cell_type": "code",
   "execution_count": null,
   "metadata": {},
   "outputs": [],
   "source": []
  }
 ],
 "metadata": {
  "kernelspec": {
   "display_name": "Python 2",
   "language": "python",
   "name": "python2"
  },
  "language_info": {
   "codemirror_mode": {
    "name": "ipython",
    "version": 2
   },
   "file_extension": ".py",
   "mimetype": "text/x-python",
   "name": "python",
   "nbconvert_exporter": "python",
   "pygments_lexer": "ipython2",
   "version": "2.7.17"
  }
 },
 "nbformat": 4,
 "nbformat_minor": 1
}
