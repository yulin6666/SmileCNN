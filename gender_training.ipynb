{
 "cells": [
  {
   "cell_type": "markdown",
   "metadata": {},
   "source": [
    "For this step we're going to use Keras. This will also start up your GPU if you're using one, which can take up to **10 seconds**."
   ]
  },
  {
   "cell_type": "code",
   "execution_count": 12,
   "metadata": {},
   "outputs": [
    {
     "name": "stdout",
     "output_type": "stream",
     "text": [
      "2.2.4\n",
      "1.15.0\n"
     ]
    }
   ],
   "source": [
    "import numpy as np\n",
    "import keras\n",
    "import tensorflow as tf\n",
    "from keras.models import Sequential\n",
    "from keras.layers.core import Dense, Dropout, Flatten, Reshape\n",
    "from keras.layers.convolutional import Conv2D, MaxPooling2D\n",
    "from keras.utils import np_utils\n",
    "print keras.__version__\n",
    "print tf.__version__\n",
    "from keras.optimizers import SGD\n",
    "\n",
    "import os\n",
    "os.environ[\"KMP_DUPLICATE_LIB_OK\"]=\"TRUE\""
   ]
  },
  {
   "cell_type": "markdown",
   "metadata": {},
   "source": [
    "Now let's load the data, and convert the labels to categories. So `0` becomes `[1, 0]` and `1` becomes `[0, 1]`. This makes it easy to add more classes later (like \"angry\", \"sad\", etc.) and interpret the predictions as probabilities. We do this after loading the file instead of before saving to avoid having a big labels file on disk.\n",
    "\n",
    "Then we shuffle all the examples to make sure we don't hold out only one class for validation. And finally we count up how many instances there are of each class to make ensure that we put more emphasis on the rarer ones during training."
   ]
  },
  {
   "cell_type": "code",
   "execution_count": 13,
   "metadata": {},
   "outputs": [
    {
     "name": "stdout",
     "output_type": "stream",
     "text": [
      "float32 0.0 1.0 (36348, 32, 32, 1)\n",
      "float32 0.0 1.0 (36348, 2)\n"
     ]
    }
   ],
   "source": [
    "# load the data\n",
    "x_train = np.load('x_train.npy')\n",
    "y_train = np.load('y_train.npy')\n",
    "\n",
    "# convert classes to vector\n",
    "nb_classes = 2\n",
    "y_train = np_utils.to_categorical(y_train, nb_classes).astype(np.float32)\n",
    "\n",
    "# shuffle all the data\n",
    "indices = np.arange(len(x_train))\n",
    "np.random.shuffle(indices)\n",
    "x_train = x_train[indices]\n",
    "y_train = y_train[indices]\n",
    "\n",
    "# prepare weighting for classes since they're unbalanced\n",
    "class_totals = y_train.sum(axis=0)\n",
    "class_weight = class_totals.max() / class_totals\n",
    "\n",
    "print x_train.dtype, x_train.min(), x_train.max(), x_train.shape\n",
    "print y_train.dtype, y_train.min(), y_train.max(), y_train.shape"
   ]
  },
  {
   "cell_type": "markdown",
   "metadata": {},
   "source": [
    "Now we set up our network. It is based on the Keras `mnist_cnn.py` example, following in the footsteps of VGG net by using small 3x3 convolutions with max pooling, and a final stage of multiple dense layers."
   ]
  },
  {
   "cell_type": "code",
   "execution_count": 14,
   "metadata": {
    "scrolled": false
   },
   "outputs": [
    {
     "name": "stdout",
     "output_type": "stream",
     "text": [
      "_________________________________________________________________\n",
      "Layer (type)                 Output Shape              Param #   \n",
      "=================================================================\n",
      "conv2d_9 (Conv2D)            (None, 28, 28, 16)        416       \n",
      "_________________________________________________________________\n",
      "max_pooling2d_9 (MaxPooling2 (None, 14, 14, 16)        0         \n",
      "_________________________________________________________________\n",
      "conv2d_10 (Conv2D)           (None, 10, 10, 16)        6416      \n",
      "_________________________________________________________________\n",
      "max_pooling2d_10 (MaxPooling (None, 5, 5, 16)          0         \n",
      "_________________________________________________________________\n",
      "dropout_7 (Dropout)          (None, 5, 5, 16)          0         \n",
      "_________________________________________________________________\n",
      "flatten_5 (Flatten)          (None, 400)               0         \n",
      "_________________________________________________________________\n",
      "dense_13 (Dense)             (None, 64)                25664     \n",
      "_________________________________________________________________\n",
      "dropout_8 (Dropout)          (None, 64)                0         \n",
      "_________________________________________________________________\n",
      "dense_14 (Dense)             (None, 2)                 130       \n",
      "=================================================================\n",
      "Total params: 32,626\n",
      "Trainable params: 32,626\n",
      "Non-trainable params: 0\n",
      "_________________________________________________________________\n"
     ]
    }
   ],
   "source": [
    "nb_filters = 16\n",
    "nb_pool = 2\n",
    "nb_conv = 5\n",
    "\n",
    "model = Sequential()\n",
    "\n",
    "model.add(Conv2D(nb_filters, (nb_conv, nb_conv), activation='relu', input_shape=x_train.shape[1:]))\n",
    "model.add(MaxPooling2D(pool_size=(nb_pool, nb_pool)))\n",
    "model.add(Conv2D(nb_filters, (nb_conv, nb_conv), activation='relu'))\n",
    "model.add(MaxPooling2D(pool_size=(nb_pool, nb_pool)))\n",
    "model.add(Dropout(0.25))\n",
    "model.add(Flatten())\n",
    "model.add(Dense(64, activation='relu'))\n",
    "model.add(Dropout(0.5))\n",
    "model.add(Dense(2, activation='softmax'))\n",
    "\n",
    "model.compile(loss='categorical_crossentropy', optimizer='adam', metrics=['accuracy'])\n",
    "model.summary()"
   ]
  },
  {
   "cell_type": "markdown",
   "metadata": {},
   "source": [
    "Now that our data and model is ready, we can train the model on the data for a few epochs, holding out 10% of the data for validating the accuracy. This should take about **30 seconds**."
   ]
  },
  {
   "cell_type": "code",
   "execution_count": 15,
   "metadata": {},
   "outputs": [
    {
     "name": "stdout",
     "output_type": "stream",
     "text": [
      "Epoch 1/20\n",
      "334/334 [==============================] - 30s 89ms/step - loss: 0.4122 - acc: 0.8229 - val_loss: 0.2908 - val_acc: 0.8779\n",
      "Epoch 2/20\n",
      "334/334 [==============================] - 28s 83ms/step - loss: 0.3195 - acc: 0.8668 - val_loss: 0.2585 - val_acc: 0.8920\n",
      "Epoch 3/20\n",
      "334/334 [==============================] - 32s 96ms/step - loss: 0.2826 - acc: 0.8835 - val_loss: 0.2197 - val_acc: 0.9188\n",
      "Epoch 4/20\n",
      "334/334 [==============================] - 29s 86ms/step - loss: 0.2608 - acc: 0.8947 - val_loss: 0.2030 - val_acc: 0.9199\n",
      "Epoch 5/20\n",
      "334/334 [==============================] - 28s 83ms/step - loss: 0.2457 - acc: 0.9004 - val_loss: 0.1963 - val_acc: 0.9216\n",
      "Epoch 6/20\n",
      "334/334 [==============================] - 26s 78ms/step - loss: 0.2346 - acc: 0.9040 - val_loss: 0.2043 - val_acc: 0.9157\n",
      "Epoch 7/20\n",
      "334/334 [==============================] - 29s 87ms/step - loss: 0.2284 - acc: 0.9077 - val_loss: 0.1869 - val_acc: 0.9240\n",
      "Epoch 8/20\n",
      "334/334 [==============================] - 31s 91ms/step - loss: 0.2239 - acc: 0.9091 - val_loss: 0.1947 - val_acc: 0.9226\n",
      "Epoch 9/20\n",
      "334/334 [==============================] - 30s 90ms/step - loss: 0.2165 - acc: 0.9117 - val_loss: 0.1822 - val_acc: 0.9288\n",
      "Epoch 10/20\n",
      "334/334 [==============================] - 29s 88ms/step - loss: 0.2119 - acc: 0.9138 - val_loss: 0.1783 - val_acc: 0.9295\n",
      "Epoch 11/20\n",
      "334/334 [==============================] - 30s 90ms/step - loss: 0.2097 - acc: 0.9146 - val_loss: 0.1709 - val_acc: 0.9305\n",
      "Epoch 12/20\n",
      "334/334 [==============================] - 29s 86ms/step - loss: 0.2072 - acc: 0.9177 - val_loss: 0.1805 - val_acc: 0.9288\n",
      "Epoch 13/20\n",
      "334/334 [==============================] - 29s 87ms/step - loss: 0.2050 - acc: 0.9174 - val_loss: 0.1662 - val_acc: 0.9312\n",
      "Epoch 14/20\n",
      "334/334 [==============================] - 26s 78ms/step - loss: 0.2025 - acc: 0.9170 - val_loss: 0.1668 - val_acc: 0.9350\n",
      "Epoch 15/20\n",
      "334/334 [==============================] - 28s 84ms/step - loss: 0.1984 - acc: 0.9185 - val_loss: 0.1732 - val_acc: 0.9333\n",
      "Epoch 16/20\n",
      "334/334 [==============================] - 29s 87ms/step - loss: 0.1972 - acc: 0.9211 - val_loss: 0.1691 - val_acc: 0.9336\n",
      "Epoch 17/20\n",
      "334/334 [==============================] - 30s 91ms/step - loss: 0.1934 - acc: 0.9218 - val_loss: 0.1882 - val_acc: 0.9295\n",
      "Epoch 18/20\n",
      "334/334 [==============================] - 29s 88ms/step - loss: 0.1921 - acc: 0.9227 - val_loss: 0.1711 - val_acc: 0.9371\n",
      "Epoch 19/20\n",
      "334/334 [==============================] - 39s 116ms/step - loss: 0.1928 - acc: 0.9218 - val_loss: 0.1728 - val_acc: 0.9278\n",
      "Epoch 20/20\n",
      "334/334 [==============================] - 40s 118ms/step - loss: 0.1906 - acc: 0.9237 - val_loss: 0.1592 - val_acc: 0.9374\n"
     ]
    }
   ],
   "source": [
    "from keras.preprocessing.image import ImageDataGenerator\n",
    "from sklearn.model_selection import train_test_split\n",
    "\n",
    "X, X_val, y, Y_val = train_test_split(x_train,y_train, test_size=0.08, shuffle=True, random_state=2019)\n",
    "\n",
    "datagen = ImageDataGenerator(\n",
    "            rotation_range=15, \n",
    "            width_shift_range=0.1, \n",
    "            height_shift_range=0.1, \n",
    "            zoom_range=0.05)\n",
    "datagen.fit(X)\n",
    "    \n",
    "# reduce_lr = keras.callbacks.ReduceLROnPlateau(monitor='val_loss', factor=0.2,\n",
    "#                               patience=5, min_lr=0.001)\n",
    "# history = model.fit_generator(datagen.flow(X, y, batch_size=200), steps_per_epoch=len(X)/100, \n",
    "#                     epochs=100, validation_data=(X_val,Y_val),callbacks=[reduce_lr])\n",
    "\n",
    "history = model.fit_generator(datagen.flow(X, y, batch_size=200), steps_per_epoch=len(X)/100, \n",
    "                     epochs=20, validation_data=(X_val,Y_val))\n",
    "\n",
    "# validation_split = 0.10\n",
    "# history = model.fit(x_train, y_train, batch_size=128, class_weight=class_weight, epochs=50, verbose=1, validation_split=validation_split)"
   ]
  },
  {
   "cell_type": "markdown",
   "metadata": {},
   "source": [
    "That got us to 90% validation accuracy, following the training accuracy pretty closely. To get it down more we might try tweaking the hyperparameters (number of filters, size of dense layers, etc.) or lowering the learning rate after a few epochs. But for now we will just save the model."
   ]
  },
  {
   "cell_type": "code",
   "execution_count": 16,
   "metadata": {},
   "outputs": [],
   "source": [
    "open('gender_model.json', 'w').write(model.to_json())\n",
    "model.save_weights('gender_weights.h5')"
   ]
  },
  {
   "cell_type": "markdown",
   "metadata": {},
   "source": [
    "To visually check the accuracy and loss, we can plot them to verify that there aren't any unexpected kinks or noise."
   ]
  },
  {
   "cell_type": "code",
   "execution_count": 17,
   "metadata": {},
   "outputs": [
    {
     "data": {
      "image/png": "[encoded data removed]",
      "text/plain": [
       "<Figure size 432x288 with 1 Axes>"
      ]
     },
     "metadata": {
      "needs_background": "light"
     },
     "output_type": "display_data"
    }
   ],
   "source": [
    "%matplotlib inline\n",
    "from matplotlib import pyplot as plt\n",
    "plt.plot(history.history['loss'])\n",
    "plt.plot(history.history['acc'])\n",
    "plt.plot(history.history['val_loss'])\n",
    "plt.plot(history.history['val_acc'])\n",
    "plt.show()"
   ]
  },
  {
   "cell_type": "code",
   "execution_count": 18,
   "metadata": {},
   "outputs": [
    {
     "name": "stdout",
     "output_type": "stream",
     "text": [
      "float32 0.0 1.0 (2000, 32, 32, 1)\n",
      "float32 0.0 1.0 (2000, 2)\n",
      "2000/2000 [==============================] - 0s 195us/step\n",
      "('loss:', 0.23045323610305787)\n",
      "('accuracy:', 0.916)\n"
     ]
    }
   ],
   "source": [
    "x_test = np.load('x_test.npy')\n",
    "y_test = np.load('y_test.npy')\n",
    "\n",
    "# convert classes to vector\n",
    "nb_classes = 2\n",
    "y_test = np_utils.to_categorical(y_test, nb_classes).astype(np.float32)\n",
    "\n",
    "# shuffle all the data\n",
    "indices = np.arange(len(x_test))\n",
    "np.random.shuffle(indices)\n",
    "x_test = x_test[indices]\n",
    "y_test = y_test[indices]\n",
    "\n",
    "print x_test.dtype, x_test.min(), x_test.max(), x_test.shape\n",
    "print y_test.dtype, y_test.min(), y_test.max(), y_test.shape\n",
    "\n",
    "loss, accuracy = model.evaluate(x_test, y_test)\n",
    "print(\"loss:\",loss)\n",
    "print(\"accuracy:\",accuracy)"
   ]
  },
  {
   "cell_type": "markdown",
   "metadata": {},
   "source": [
    "Bonus (optional): let's check the area under the receiver operating characteristic curve (ROC AUC) so we can compare to other work."
   ]
  },
  {
   "cell_type": "code",
   "execution_count": 14,
   "metadata": {},
   "outputs": [
    {
     "name": "stdout",
     "output_type": "stream",
     "text": [
      "WARNING:tensorflow:From /opt/anaconda3/envs/py2version/lib/python2.7/site-packages/tensorflow_estimator/python/estimator/api/_v1/estimator/__init__.py:12: The name tf.estimator.inputs is deprecated. Please use tf.compat.v1.estimator.inputs instead.\n",
      "\n"
     ]
    },
    {
     "ename": "NameError",
     "evalue": "name 'X' is not defined",
     "output_type": "error",
     "traceback": [
      "\u001b[0;31m---------------------------------------------------------------------------\u001b[0m",
      "\u001b[0;31mNameError\u001b[0m                                 Traceback (most recent call last)",
      "\u001b[0;32m<ipython-input-14-0b10337b2886>\u001b[0m in \u001b[0;36m<module>\u001b[0;34m()\u001b[0m\n\u001b[1;32m      1\u001b[0m \u001b[0;32mfrom\u001b[0m \u001b[0msklearn\u001b[0m\u001b[0;34m.\u001b[0m\u001b[0mmetrics\u001b[0m \u001b[0;32mimport\u001b[0m \u001b[0mroc_auc_score\u001b[0m\u001b[0;34m\u001b[0m\u001b[0m\n\u001b[0;32m----> 2\u001b[0;31m \u001b[0mn_validation\u001b[0m \u001b[0;34m=\u001b[0m \u001b[0mint\u001b[0m\u001b[0;34m(\u001b[0m\u001b[0mlen\u001b[0m\u001b[0;34m(\u001b[0m\u001b[0mX\u001b[0m\u001b[0;34m)\u001b[0m \u001b[0;34m*\u001b[0m \u001b[0mvalidation_split\u001b[0m\u001b[0;34m)\u001b[0m\u001b[0;34m\u001b[0m\u001b[0m\n\u001b[0m\u001b[1;32m      3\u001b[0m \u001b[0my_predicted\u001b[0m \u001b[0;34m=\u001b[0m \u001b[0mmodel\u001b[0m\u001b[0;34m.\u001b[0m\u001b[0mpredict\u001b[0m\u001b[0;34m(\u001b[0m\u001b[0mX\u001b[0m\u001b[0;34m[\u001b[0m\u001b[0;34m-\u001b[0m\u001b[0mn_validation\u001b[0m\u001b[0;34m:\u001b[0m\u001b[0;34m]\u001b[0m\u001b[0;34m)\u001b[0m\u001b[0;34m\u001b[0m\u001b[0m\n\u001b[1;32m      4\u001b[0m \u001b[0;32mprint\u001b[0m \u001b[0mroc_auc_score\u001b[0m\u001b[0;34m(\u001b[0m\u001b[0my\u001b[0m\u001b[0;34m[\u001b[0m\u001b[0;34m-\u001b[0m\u001b[0mn_validation\u001b[0m\u001b[0;34m:\u001b[0m\u001b[0;34m]\u001b[0m\u001b[0;34m,\u001b[0m \u001b[0my_predicted\u001b[0m\u001b[0;34m)\u001b[0m\u001b[0;34m\u001b[0m\u001b[0m\n",
      "\u001b[0;31mNameError\u001b[0m: name 'X' is not defined"
     ]
    }
   ],
   "source": [
    "# from sklearn.metrics import roc_auc_score\n",
    "# n_validation = int(len(X_test) * validation_split)\n",
    "# y_predicted = model.predict(X[-n_validation:])\n",
    "# print roc_auc_score(y[-n_validation:], y_predicted)"
   ]
  },
  {
   "cell_type": "code",
   "execution_count": 19,
   "metadata": {},
   "outputs": [
    {
     "data": {
      "image/png": "[encoded data removed]",
      "text/plain": [
       "<IPython.core.display.Image object>"
      ]
     },
     "metadata": {},
     "output_type": "display_data"
    },
    {
     "name": "stdout",
     "output_type": "stream",
     "text": [
      "(900, 32, 32, 1)\n"
     ]
    }
   ],
   "source": [
    "from utils import show_array\n",
    "import numpy as np\n",
    "\n",
    "import keras\n",
    "from keras.models import model_from_json\n",
    "model1 = model_from_json(open('model.json').read())\n",
    "model1.load_weights('weights.h5')\n",
    "\n",
    "X = np.load('x_test.npy')\n",
    "class_names = ['Neutral', 'Smiling']\n",
    "img = X[-7]\n",
    "show_array(255 * img)\n",
    "\n",
    "print(X[100:1000].shape)\n",
    "\n",
    "probabilities = model1.predict(X[100:1000])"
   ]
  },
  {
   "cell_type": "code",
   "execution_count": 20,
   "metadata": {},
   "outputs": [
    {
     "name": "stderr",
     "output_type": "stream",
     "text": [
      "WARNING:root:TensorFlow version 1.15.0 detected. Last version known to be fully compatible is 1.14.0 .\n"
     ]
    },
    {
     "name": "stdout",
     "output_type": "stream",
     "text": [
      "0 : conv2d_9_input, <keras.engine.input_layer.InputLayer object at 0xb449fc8d0>\n",
      "1 : conv2d_9, <keras.layers.convolutional.Conv2D object at 0xb449fc750>\n",
      "2 : conv2d_9__activation__, <keras.layers.core.Activation object at 0x1a531dd0d0>\n",
      "3 : max_pooling2d_9, <keras.layers.pooling.MaxPooling2D object at 0x1a526835d0>\n",
      "4 : conv2d_10, <keras.layers.convolutional.Conv2D object at 0x1a52f11650>\n",
      "5 : conv2d_10__activation__, <keras.layers.core.Activation object at 0x1a531ee6d0>\n",
      "6 : max_pooling2d_10, <keras.layers.pooling.MaxPooling2D object at 0x1a52f19910>\n",
      "7 : flatten_5, <keras.layers.core.Flatten object at 0x1a52f1fb90>\n",
      "8 : dense_13, <keras.layers.core.Dense object at 0x1a52f3a4d0>\n",
      "9 : dense_13__activation__, <keras.layers.core.Activation object at 0x1a531ee910>\n",
      "10 : dense_14, <keras.layers.core.Dense object at 0x1a52f464d0>\n",
      "11 : dense_14__activation__, <keras.layers.core.Activation object at 0x1a531ee990>\n"
     ]
    },
    {
     "data": {
      "image/png": "[encoded data removed]",
      "text/plain": [
       "<PIL.Image.Image image mode=L size=32x32 at 0x1A52664C10>"
      ]
     },
     "metadata": {},
     "output_type": "display_data"
    },
    {
     "name": "stdout",
     "output_type": "stream",
     "text": [
      "Female\n"
     ]
    },
    {
     "data": {
      "image/png": "[encoded data removed]",
      "text/plain": [
       "<PIL.Image.Image image mode=L size=32x32 at 0x1A52664C10>"
      ]
     },
     "metadata": {},
     "output_type": "display_data"
    },
    {
     "name": "stdout",
     "output_type": "stream",
     "text": [
      "Male\n"
     ]
    }
   ],
   "source": [
    "#coreml模型\n",
    "from utils import show_array\n",
    "import numpy as np\n",
    "import PIL.Image\n",
    "import IPython.display\n",
    "\n",
    "import keras\n",
    "from keras.models import model_from_json\n",
    "model = model_from_json(open('gender_model.json').read())\n",
    "model.load_weights('gender_weights.h5')\n",
    "\n",
    "from keras.models import load_model\n",
    "import coremltools\n",
    "\n",
    "import coremltools\n",
    "\n",
    "coreml_model = coremltools.converters.keras.convert(model,input_names='data', image_input_names='data',output_names='outTensor')\n",
    "coreml_model.save('gender.mlmodel')\n",
    "\n",
    "# X = np.load('X.npy')\n",
    "# Y = np.load('Y.npy')\n",
    "class_names = ['Female', 'Male']\n",
    "# img = X[-8]\n",
    "# show_array(255 * img)\n",
    "\n",
    "#check female\n",
    "# raw_img = 255*img\n",
    "# raw_img = np.squeeze(raw_img)\n",
    "# raw_img = np.uint8(np.clip(raw_img, 0, 255))\n",
    "# img = PIL.Image.fromarray(raw_img)\n",
    "img = PIL.Image.open('../dataset/Gender/testdata/Female/b12_8.jpg')\n",
    "newsize = (32, 32) \n",
    "img = img.resize(newsize) \n",
    "display(img)\n",
    "\n",
    "mlmodel = coremltools.models.MLModel('gender.mlmodel')\n",
    "out = mlmodel.predict({'data': img})\n",
    "ret = out['outTensor']\n",
    "print class_names[np.argmax(ret)]\n",
    "\n",
    "#check male\n",
    "img = PIL.Image.open('../dataset/Gender/testdata/Male/b12_170.jpg').convert('L')\n",
    "newsize = (32, 32) \n",
    "img = img.resize(newsize)\n",
    "display(img)\n",
    "\n",
    "mlmodel = coremltools.models.MLModel('gender.mlmodel')\n",
    "out = mlmodel.predict({'data': img})\n",
    "ret = out['outTensor']\n",
    "print class_names[np.argmax(ret)]"
   ]
  },
  {
   "cell_type": "code",
   "execution_count": null,
   "metadata": {},
   "outputs": [],
   "source": []
  }
 ],
 "metadata": {
  "kernelspec": {
   "display_name": "Python 2",
   "language": "python",
   "name": "python2"
  },
  "language_info": {
   "codemirror_mode": {
    "name": "ipython",
    "version": 2
   },
   "file_extension": ".py",
   "mimetype": "text/x-python",
   "name": "python",
   "nbconvert_exporter": "python",
   "pygments_lexer": "ipython2",
   "version": "2.7.17"
  }
 },
 "nbformat": 4,
 "nbformat_minor": 1
}
